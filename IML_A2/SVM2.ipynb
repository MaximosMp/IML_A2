{
 "cells": [
  {
   "cell_type": "code",
   "execution_count": 12,
   "metadata": {},
   "outputs": [],
   "source": [
    "import pandas as pd\n",
    "import numpy as np\n",
    "from sklearn.model_selection import StratifiedKFold\n",
    "from sklearn.model_selection import cross_val_score\n",
    "from sklearn.model_selection import train_test_split, GridSearchCV\n",
    "from sklearn.preprocessing import LabelEncoder, StandardScaler\n",
    "from sklearn.metrics import accuracy_score\n",
    "from matplotlib import pyplot as plt\n",
    "import seaborn as sns\n",
    "from sklearn.metrics import confusion_matrix\n",
    "from sklearn.metrics import classification_report\n",
    "from sklearn.svm import SVC\n",
    "from sklearn.model_selection import cross_validate\n",
    "from sklearn.model_selection import ShuffleSplit\n",
    "from sklearn.model_selection import KFold\n",
    "from sklearn import preprocessing"
   ]
  },
  {
   "cell_type": "markdown",
   "metadata": {},
   "source": [
    "CLEAN DATA"
   ]
  },
  {
   "cell_type": "code",
   "execution_count": 13,
   "metadata": {},
   "outputs": [],
   "source": [
    "df_clean = pd.read_csv('A2_data.csv')\n",
    "df_clean = df_clean.drop('field_ID', axis=1) # the id column is not needed for estimation\n",
    "df_clean = df_clean.drop('MJD', axis=1) # the MJD column is not needed for estimation\n",
    "df_clean = df_clean.drop('plate', axis=1) # the plate column is not needed for estimation')\n",
    "\n",
    "# drop row 79543\n",
    "df_clean = df_clean.drop(79543, axis=0)\n",
    "\n",
    "# transform classes to numbers\n",
    "df_clean['class'] = df_clean['class'].map({'GALAXY': 1, 'QSO': 2, 'STAR': 3})\n",
    "\n",
    "df_x = df_clean.iloc[:,0:8]\n",
    "df_y = df_clean['class']\n",
    "\n",
    "\n",
    "from sklearn.preprocessing import StandardScaler\n",
    "\n",
    "scaler = StandardScaler()\n",
    "# scale the data\n",
    "df_scaled = scaler.fit_transform(df_x)\n",
    "\n",
    "# convert the scaled data to a dataframe\n",
    "df_x = pd.DataFrame(df_scaled, columns=df_x.columns)\n"
   ]
  },
  {
   "cell_type": "markdown",
   "metadata": {},
   "source": [
    "FINDING THE KEY PARAMETER"
   ]
  },
  {
   "cell_type": "markdown",
   "metadata": {},
   "source": [
    "KERNELS"
   ]
  },
  {
   "cell_type": "code",
   "execution_count": 3,
   "metadata": {},
   "outputs": [],
   "source": [
    "from sklearn.model_selection import KFold\n",
    "\n",
    "\n",
    "kfold=KFold(n_splits=5, shuffle=True, random_state=0)"
   ]
  },
  {
   "cell_type": "markdown",
   "metadata": {},
   "source": [
    "SVM WITH POLY"
   ]
  },
  {
   "cell_type": "code",
   "execution_count": 23,
   "metadata": {},
   "outputs": [
    {
     "name": "stdout",
     "output_type": "stream",
     "text": [
      "Stratified cross-validation scores with poly kernel:\n",
      "\n",
      "[0.681   0.7036  0.68555 0.6779  0.6754 ]\n",
      "Average stratified cross-validation score with poly kernel:0.6847\n"
     ]
    }
   ],
   "source": [
    "poly_svc=SVC(kernel='poly', decision_function_shape='ovo')\n",
    "\n",
    "\n",
    "poly_scores = cross_val_score(poly_svc, df_x, df_y, cv=kfold)\n",
    "\n",
    "print('Stratified cross-validation scores with poly kernel:\\n\\n{}'.format(poly_scores))\n",
    "\n",
    "# print average cross-validation score with rbf kernel\n",
    "\n",
    "print('Average stratified cross-validation score with poly kernel:{:.4f}'.format(poly_scores.mean()))"
   ]
  },
  {
   "cell_type": "markdown",
   "metadata": {},
   "source": [
    "SVM WITH RBF"
   ]
  },
  {
   "cell_type": "code",
   "execution_count": 24,
   "metadata": {},
   "outputs": [
    {
     "name": "stdout",
     "output_type": "stream",
     "text": [
      "Stratified Cross-validation scores with rbf kernel:\n",
      "\n",
      "[0.8049  0.80955 0.8031  0.80235 0.80345]\n",
      "Average stratified cross-validation score with rbf kernel:0.8047\n"
     ]
    }
   ],
   "source": [
    "rbf_svc=SVC(kernel='rbf', decision_function_shape='ovo')\n",
    "\n",
    "\n",
    "rbf_scores = cross_val_score(rbf_svc, df_x, df_y, cv=kfold)\n",
    "\n",
    "print('Stratified Cross-validation scores with rbf kernel:\\n\\n{}'.format(rbf_scores))\n",
    "\n",
    "# print average cross-validation score with rbf kernel\n",
    "\n",
    "print('Average stratified cross-validation score with rbf kernel:{:.4f}'.format(rbf_scores.mean()))"
   ]
  },
  {
   "cell_type": "markdown",
   "metadata": {},
   "source": [
    "SVM WITH LINEAR"
   ]
  },
  {
   "cell_type": "code",
   "execution_count": 25,
   "metadata": {},
   "outputs": [
    {
     "name": "stdout",
     "output_type": "stream",
     "text": [
      "Stratified cross-validation scores with linear kernel:\n",
      "\n",
      "[0.7533  0.7524  0.7588  0.75185 0.75255]\n",
      "Average stratified cross-validation score with linear kernel:0.7538\n"
     ]
    }
   ],
   "source": [
    "linear_svc=SVC(kernel='linear', decision_function_shape='ovo')\n",
    "\n",
    "\n",
    "linear_scores = cross_val_score(linear_svc, df_x, df_y, cv=kfold)\n",
    "\n",
    "print('Stratified cross-validation scores with linear kernel:\\n\\n{}'.format(linear_scores))\n",
    "\n",
    "print('Average stratified cross-validation score with linear kernel:{:.4f}'.format(linear_scores.mean()))"
   ]
  },
  {
   "cell_type": "markdown",
   "metadata": {},
   "source": [
    "PARAMETER C "
   ]
  },
  {
   "cell_type": "markdown",
   "metadata": {},
   "source": [
    "RBF"
   ]
  },
  {
   "cell_type": "code",
   "execution_count": 24,
   "metadata": {},
   "outputs": [
    {
     "name": "stdout",
     "output_type": "stream",
     "text": [
      "Stratified cross-validation scores with rbf kernel:\n",
      "\n",
      "[0.85505    0.85475    0.8515     0.8525     0.85314266]\n",
      "Average stratified cross-validation score with rbf kernel:0.8534\n"
     ]
    }
   ],
   "source": [
    "# instantiate classifier with rbf kernel and C=1\n",
    "svcRBF1=SVC(kernel = \"rbf\", C=1.0, decision_function_shape='ovo') \n",
    "\n",
    "\n",
    "RBF_scores = cross_val_score(svcRBF1, df_x, df_y, cv=kfold)\n",
    "\n",
    "print('Stratified cross-validation scores with rbf kernel:\\n\\n{}'.format(RBF_scores))\n",
    "\n",
    "print('Average stratified cross-validation score with rbf kernel:{:.4f}'.format(RBF_scores.mean()))"
   ]
  },
  {
   "cell_type": "code",
   "execution_count": 25,
   "metadata": {},
   "outputs": [
    {
     "name": "stdout",
     "output_type": "stream",
     "text": [
      "Stratified cross-validation scores with rbf kernel:\n",
      "\n",
      "[0.8747     0.87545    0.8738     0.876      0.87339367]\n",
      "Average stratified cross-validation score with rbf kernel:0.8747\n"
     ]
    }
   ],
   "source": [
    "# instantiate classifier with rbf kernel and C=100\n",
    "svcRBF100=SVC(kernel = \"rbf\", C=100.0, decision_function_shape='ovo') \n",
    "\n",
    "\n",
    "RBF_scores = cross_val_score(svcRBF100, df_x, df_y, cv=kfold)\n",
    "\n",
    "print('Stratified cross-validation scores with rbf kernel:\\n\\n{}'.format(RBF_scores))\n",
    "\n",
    "print('Average stratified cross-validation score with rbf kernel:{:.4f}'.format(RBF_scores.mean()))"
   ]
  },
  {
   "cell_type": "markdown",
   "metadata": {},
   "source": [
    "LINEAR"
   ]
  },
  {
   "cell_type": "code",
   "execution_count": 4,
   "metadata": {},
   "outputs": [
    {
     "name": "stdout",
     "output_type": "stream",
     "text": [
      "Stratified cross-validation scores with linear kernel:\n",
      "\n",
      "[0.76985   0.76885   0.7716    0.77125   0.7700885]\n",
      "Average stratified cross-validation score with linear kernel:0.7703\n"
     ]
    }
   ],
   "source": [
    "linear_svc1=SVC(kernel='linear', C=1.0, decision_function_shape='ovo') \n",
    "\n",
    "\n",
    "linear_scores = cross_val_score(linear_svc1, df_x, df_y, cv=kfold)\n",
    "\n",
    "print('Stratified cross-validation scores with linear kernel:\\n\\n{}'.format(linear_scores))\n",
    "\n",
    "print('Average stratified cross-validation score with linear kernel:{:.4f}'.format(linear_scores.mean()))"
   ]
  },
  {
   "cell_type": "code",
   "execution_count": 5,
   "metadata": {},
   "outputs": [
    {
     "name": "stdout",
     "output_type": "stream",
     "text": [
      "Stratified cross-validation scores with linear kernel:\n",
      "\n",
      "[0.76995    0.76885    0.77175    0.77115    0.77023851]\n",
      "Average stratified cross-validation score with linear kernel:0.7704\n"
     ]
    }
   ],
   "source": [
    "linear_svc100=SVC(kernel='linear', C=100.0, decision_function_shape='ovo') \n",
    "\n",
    "\n",
    "linear_scores = cross_val_score(linear_svc100, df_x, df_y, cv=kfold)\n",
    "\n",
    "print('Stratified cross-validation scores with linear kernel:\\n\\n{}'.format(linear_scores))\n",
    "\n",
    "print('Average stratified cross-validation score with linear kernel:{:.4f}'.format(linear_scores.mean()))"
   ]
  },
  {
   "cell_type": "markdown",
   "metadata": {},
   "source": [
    "PARAMETER GAMMA"
   ]
  },
  {
   "cell_type": "code",
   "execution_count": 6,
   "metadata": {},
   "outputs": [
    {
     "name": "stdout",
     "output_type": "stream",
     "text": [
      "Stratified cross-validation scores with rbf kernel:\n",
      "\n",
      "[0.8535     0.85235    0.84895    0.8498     0.85154258]\n",
      "Average stratified cross-validation score with rbf kernel:0.8512\n"
     ]
    }
   ],
   "source": [
    "svc01=SVC(kernel = \"rbf\", gamma=0.1, decision_function_shape='ovo') \n",
    "\n",
    "\n",
    "rbf_scores = cross_val_score(svc01, df_x, df_y, cv=kfold)\n",
    "\n",
    "print('Stratified cross-validation scores with rbf kernel:\\n\\n{}'.format(rbf_scores))\n",
    "\n",
    "print('Average stratified cross-validation score with rbf kernel:{:.4f}'.format(rbf_scores.mean()))"
   ]
  },
  {
   "cell_type": "code",
   "execution_count": 7,
   "metadata": {},
   "outputs": [
    {
     "name": "stdout",
     "output_type": "stream",
     "text": [
      "Stratified cross-validation scores with rbf kernel:\n",
      "\n",
      "[0.85985    0.85885    0.85575    0.85805    0.85859293]\n",
      "Average stratified cross-validation score with rbf kernel:0.8582\n"
     ]
    }
   ],
   "source": [
    "svc02=SVC(kernel = \"rbf\", gamma=0.2, decision_function_shape='ovo') \n",
    "\n",
    "\n",
    "rbf_scores = cross_val_score(svc02, df_x, df_y, cv=kfold)\n",
    "\n",
    "print('Stratified cross-validation scores with rbf kernel:\\n\\n{}'.format(rbf_scores))\n",
    "\n",
    "print('Average stratified cross-validation score with rbf kernel:{:.4f}'.format(rbf_scores.mean()))"
   ]
  },
  {
   "cell_type": "code",
   "execution_count": 8,
   "metadata": {},
   "outputs": [
    {
     "name": "stdout",
     "output_type": "stream",
     "text": [
      "Stratified cross-validation scores with rbf kernel:\n",
      "\n",
      "[0.86315    0.8627     0.85815    0.8608     0.86044302]\n",
      "Average stratified cross-validation score with rbf kernel:0.8610\n"
     ]
    }
   ],
   "source": [
    "svc04=SVC(kernel = \"rbf\", gamma=0.4, decision_function_shape='ovo') \n",
    "\n",
    "\n",
    "rbf_scores = cross_val_score(svc04, df_x, df_y, cv=kfold)\n",
    "\n",
    "print('Stratified cross-validation scores with rbf kernel:\\n\\n{}'.format(rbf_scores))\n",
    "\n",
    "print('Average stratified cross-validation score with rbf kernel:{:.4f}'.format(rbf_scores.mean()))"
   ]
  },
  {
   "cell_type": "code",
   "execution_count": 9,
   "metadata": {},
   "outputs": [
    {
     "name": "stdout",
     "output_type": "stream",
     "text": [
      "Stratified cross-validation scores with rbf kernel:\n",
      "\n",
      "[0.8629     0.8623     0.8591     0.8608     0.86089304]\n",
      "Average stratified cross-validation score with rbf kernel:0.8612\n"
     ]
    }
   ],
   "source": [
    "svc06=SVC(kernel = \"rbf\", gamma=0.6, decision_function_shape='ovo') \n",
    "\n",
    "\n",
    "rbf_scores = cross_val_score(svc06, df_x, df_y, cv=kfold)\n",
    "\n",
    "print('Stratified cross-validation scores with rbf kernel:\\n\\n{}'.format(rbf_scores))\n",
    "\n",
    "print('Average stratified cross-validation score with rbf kernel:{:.4f}'.format(rbf_scores.mean()))"
   ]
  },
  {
   "cell_type": "code",
   "execution_count": 10,
   "metadata": {},
   "outputs": [
    {
     "name": "stdout",
     "output_type": "stream",
     "text": [
      "Stratified cross-validation scores with rbf kernel:\n",
      "\n",
      "[0.863      0.86195    0.85935    0.85995    0.86099305]\n",
      "Average stratified cross-validation score with rbf kernel:0.8610\n"
     ]
    }
   ],
   "source": [
    "svc08=SVC(kernel = \"rbf\", gamma=0.8, decision_function_shape='ovo') \n",
    "\n",
    "\n",
    "rbf_scores = cross_val_score(svc08, df_x, df_y, cv=kfold)\n",
    "\n",
    "print('Stratified cross-validation scores with rbf kernel:\\n\\n{}'.format(rbf_scores))\n",
    "\n",
    "print('Average stratified cross-validation score with rbf kernel:{:.4f}'.format(rbf_scores.mean()))"
   ]
  },
  {
   "cell_type": "markdown",
   "metadata": {},
   "source": [
    "RANDOM SEARCH FOR HYPARAMETER OPTIMIZATION"
   ]
  },
  {
   "cell_type": "code",
   "execution_count": 14,
   "metadata": {},
   "outputs": [],
   "source": [
    "X_train, X_test, y_train, y_test = train_test_split(df_x, df_y, test_size = 0.2, random_state = 0)"
   ]
  },
  {
   "cell_type": "code",
   "execution_count": 4,
   "metadata": {},
   "outputs": [
    {
     "name": "stdout",
     "output_type": "stream",
     "text": [
      "Fitting 5 folds for each of 10 candidates, totalling 50 fits\n",
      "[CV] END ......................C=1000, gamma=0.1, kernel=rbf; total time=18.4min\n",
      "[CV] END ......................C=1000, gamma=0.1, kernel=rbf; total time=18.4min\n",
      "[CV] END ......................C=1000, gamma=0.1, kernel=rbf; total time=18.6min\n",
      "[CV] END ..........C=1000, degree=3, gamma=0.05, kernel=poly; total time=19.9min\n",
      "[CV] END ..........C=1000, degree=3, gamma=0.05, kernel=poly; total time=21.4min\n",
      "[CV] END ..........C=1000, degree=3, gamma=0.05, kernel=poly; total time=21.9min\n",
      "[CV] END ..........C=1000, degree=3, gamma=0.05, kernel=poly; total time=23.0min\n",
      "[CV] END ..........C=1000, degree=3, gamma=0.05, kernel=poly; total time=23.0min\n",
      "[CV] END ...........C=100, degree=2, gamma=0.01, kernel=poly; total time= 1.8min\n",
      "[CV] END ...........C=100, degree=2, gamma=0.01, kernel=poly; total time= 2.0min\n",
      "[CV] END ...........C=100, degree=2, gamma=0.01, kernel=poly; total time= 1.9min\n",
      "[CV] END ...........C=100, degree=2, gamma=0.01, kernel=poly; total time= 2.0min\n",
      "[CV] END ...........C=100, degree=2, gamma=0.01, kernel=poly; total time= 2.1min\n",
      "[CV] END ..........C=1000, degree=4, gamma=0.01, kernel=poly; total time= 2.0min\n",
      "[CV] END ..........C=1000, degree=4, gamma=0.01, kernel=poly; total time= 1.9min\n",
      "[CV] END ......................C=1000, gamma=0.1, kernel=rbf; total time=32.0min\n",
      "[CV] END ......................C=1000, gamma=0.1, kernel=rbf; total time=32.1min\n",
      "[CV] END ..........C=1000, degree=4, gamma=0.01, kernel=poly; total time=14.0min\n",
      "[CV] END ..........C=1000, degree=4, gamma=0.01, kernel=poly; total time= 1.8min\n",
      "[CV] END ...........C=100, degree=3, gamma=0.01, kernel=poly; total time= 1.4min\n",
      "[CV] END ..........C=1000, degree=4, gamma=0.01, kernel=poly; total time= 1.8min\n",
      "[CV] END ...........C=100, degree=3, gamma=0.01, kernel=poly; total time=11.1min\n",
      "[CV] END ...........C=100, degree=3, gamma=0.01, kernel=poly; total time=11.2min\n",
      "[CV] END ...........C=100, degree=3, gamma=0.01, kernel=poly; total time=11.2min\n",
      "[CV] END ...........C=100, degree=3, gamma=0.01, kernel=poly; total time= 5.3min\n",
      "[CV] END ......................C=1000, gamma=0.8, kernel=rbf; total time=51.7min\n",
      "[CV] END ......................C=1000, gamma=0.8, kernel=rbf; total time=51.3min\n",
      "[CV] END ......................C=1000, gamma=0.8, kernel=rbf; total time=51.9min\n",
      "[CV] END ......................C=1000, gamma=0.8, kernel=rbf; total time=51.6min\n",
      "[CV] END ......................C=1000, gamma=0.8, kernel=rbf; total time=50.9min\n",
      "[CV] END ..........C=1000, degree=3, gamma=0.01, kernel=poly; total time= 1.6min\n",
      "[CV] END ..........C=1000, degree=3, gamma=0.01, kernel=poly; total time= 1.7min\n",
      "[CV] END ..........C=1000, degree=3, gamma=0.01, kernel=poly; total time= 1.7min\n",
      "[CV] END ..........C=1000, degree=3, gamma=0.01, kernel=poly; total time= 1.7min\n",
      "[CV] END ..........C=1000, degree=3, gamma=0.01, kernel=poly; total time= 1.7min\n",
      "[CV] END ...........C=100, degree=3, gamma=0.02, kernel=poly; total time= 1.6min\n",
      "[CV] END ..........C=1000, degree=2, gamma=0.02, kernel=poly; total time=14.8min\n",
      "[CV] END ...........C=100, degree=3, gamma=0.02, kernel=poly; total time= 1.7min\n",
      "[CV] END ...........C=100, degree=3, gamma=0.02, kernel=poly; total time= 1.6min\n",
      "[CV] END ...........C=100, degree=3, gamma=0.02, kernel=poly; total time= 1.7min\n",
      "[CV] END ..........C=1000, degree=2, gamma=0.02, kernel=poly; total time=15.6min\n",
      "[CV] END ...........C=100, degree=3, gamma=0.02, kernel=poly; total time= 1.7min\n",
      "[CV] END ..........C=1000, degree=2, gamma=0.02, kernel=poly; total time=11.6min\n",
      "[CV] END ..........C=1000, degree=2, gamma=0.02, kernel=poly; total time=10.6min\n",
      "[CV] END ..........C=1000, degree=2, gamma=0.02, kernel=poly; total time=11.4min\n",
      "[CV] END ..........C=1000, degree=4, gamma=0.05, kernel=poly; total time=10.4min\n",
      "[CV] END ..........C=1000, degree=4, gamma=0.05, kernel=poly; total time=11.2min\n",
      "[CV] END ..........C=1000, degree=4, gamma=0.05, kernel=poly; total time=10.7min\n",
      "[CV] END ..........C=1000, degree=4, gamma=0.05, kernel=poly; total time=11.0min\n",
      "[CV] END ..........C=1000, degree=4, gamma=0.05, kernel=poly; total time=10.3min\n"
     ]
    },
    {
     "data": {
      "text/plain": [
       "{'kernel': 'rbf', 'gamma': 0.1, 'C': 1000}"
      ]
     },
     "execution_count": 4,
     "metadata": {},
     "output_type": "execute_result"
    }
   ],
   "source": [
    "from sklearn.model_selection import RandomizedSearchCV\n",
    "\n",
    "\n",
    "svc=SVC()\n",
    "\n",
    "#tuning using Random Search\n",
    "hyperparameters = [ {'C':[100, 1000], 'kernel':['linear']},\n",
    "                {'C':[100, 1000], 'kernel':['rbf'], 'gamma':[0.1, 0.4, 0.8]},\n",
    "                {'C':[100, 1000], 'kernel':['poly'], 'degree': [2,3,4] ,'gamma':[0.01, 0.02, 0.05]} \n",
    "               ]\n",
    "\n",
    "\n",
    "rf_random = RandomizedSearchCV(svc, hyperparameters, n_iter = 10, cv = 5, verbose=2, random_state=123, n_jobs = -1)\n",
    "rf_random.fit(X_train, y_train)\n",
    "\n",
    "rf_random.best_params_"
   ]
  },
  {
   "cell_type": "markdown",
   "metadata": {},
   "source": [
    "OVO VS OVR"
   ]
  },
  {
   "cell_type": "code",
   "execution_count": 21,
   "metadata": {},
   "outputs": [
    {
     "name": "stdout",
     "output_type": "stream",
     "text": [
      "Model accuracy score with rbf kernel, C=1000.0 and gamma=0.1 - OVO : 0.8773\n"
     ]
    }
   ],
   "source": [
    "svc=SVC(kernel = \"rbf\", C=1000.0, gamma=0.1, decision_function_shape='ovo') \n",
    "\n",
    "\n",
    "# fit classifier to training set\n",
    "svc.fit(X_train,y_train)\n",
    "\n",
    "\n",
    "# make predictions on test set\n",
    "y_pred=svc.predict(X_test)\n",
    "\n",
    "\n",
    "# compute and print accuracy score\n",
    "print('Model accuracy score with rbf kernel, C=1000.0 and gamma=0.1 - OVO : {0:0.4f}'. format(accuracy_score(y_test, y_pred)))"
   ]
  },
  {
   "cell_type": "code",
   "execution_count": 16,
   "metadata": {},
   "outputs": [
    {
     "name": "stdout",
     "output_type": "stream",
     "text": [
      "Model accuracy score with rbf kernel, C=1000.0 and gamma=0.1 - OVR : 0.8773\n"
     ]
    }
   ],
   "source": [
    "svc2=SVC(kernel = \"rbf\", C=1000.0, gamma=0.1, decision_function_shape='ovr') \n",
    "\n",
    "\n",
    "# fit classifier to training set\n",
    "svc2.fit(X_train,y_train)\n",
    "\n",
    "\n",
    "# make predictions on test set\n",
    "y_pred_2=svc2.predict(X_test)\n",
    "\n",
    "\n",
    "# compute and print accuracy score\n",
    "print('Model accuracy score with rbf kernel, C=1000.0 and gamma=0.1 - OVR : {0:0.4f}'. format(accuracy_score(y_test, y_pred_2)))"
   ]
  },
  {
   "cell_type": "markdown",
   "metadata": {},
   "source": [
    "CONFUSION MATRIX - SVC(kernel='rbf', gamma=0.1, C=1000.0, decision_function_shape='ovr')"
   ]
  },
  {
   "cell_type": "code",
   "execution_count": 17,
   "metadata": {},
   "outputs": [
    {
     "data": {
      "text/plain": [
       "Text(50.722222222222214, 0.5, 'True')"
      ]
     },
     "execution_count": 17,
     "metadata": {},
     "output_type": "execute_result"
    },
    {
     "data": {
      "image/png": "[encoded data removed]",
      "text/plain": [
       "<Figure size 640x480 with 2 Axes>"
      ]
     },
     "metadata": {},
     "output_type": "display_data"
    }
   ],
   "source": [
    "cm = confusion_matrix(y_test, y_pred_2)\n",
    "\n",
    "cm_matrix = pd.DataFrame(data=cm)\n",
    "\n",
    "sns.heatmap(cm_matrix, annot=True, fmt='d', cmap='YlGnBu')\n",
    "plt.xlabel('Predicted')\n",
    "plt.ylabel('True')"
   ]
  },
  {
   "cell_type": "markdown",
   "metadata": {},
   "source": [
    "CLASSIFICATION REPORT - SVC(kernel='rbf', gamma=0.1, C=1000.0, decision_function_shape='ovr')"
   ]
  },
  {
   "cell_type": "code",
   "execution_count": 8,
   "metadata": {},
   "outputs": [
    {
     "name": "stdout",
     "output_type": "stream",
     "text": [
      "              precision    recall  f1-score   support\n",
      "\n",
      "           1       0.91      0.95      0.93     11864\n",
      "           2       0.79      0.81      0.80      3839\n",
      "           3       0.84      0.74      0.79      4297\n",
      "\n",
      "    accuracy                           0.88     20000\n",
      "   macro avg       0.85      0.83      0.84     20000\n",
      "weighted avg       0.88      0.88      0.88     20000\n",
      "\n"
     ]
    }
   ],
   "source": [
    "print(classification_report(y_test, y_pred_2))"
   ]
  },
  {
   "cell_type": "markdown",
   "metadata": {},
   "source": [
    "REDUCED DATA"
   ]
  },
  {
   "cell_type": "markdown",
   "metadata": {},
   "source": [
    "PCA"
   ]
  },
  {
   "cell_type": "code",
   "execution_count": 11,
   "metadata": {},
   "outputs": [
    {
     "data": {
      "text/html": [
       "<div>\n",
       "<style scoped>\n",
       "    .dataframe tbody tr th:only-of-type {\n",
       "        vertical-align: middle;\n",
       "    }\n",
       "\n",
       "    .dataframe tbody tr th {\n",
       "        vertical-align: top;\n",
       "    }\n",
       "\n",
       "    .dataframe thead th {\n",
       "        text-align: right;\n",
       "    }\n",
       "</style>\n",
       "<table border=\"1\" class=\"dataframe\">\n",
       "  <thead>\n",
       "    <tr style=\"text-align: right;\">\n",
       "      <th></th>\n",
       "      <th>PC1</th>\n",
       "      <th>PC2</th>\n",
       "    </tr>\n",
       "  </thead>\n",
       "  <tbody>\n",
       "    <tr>\n",
       "      <th>0</th>\n",
       "      <td>-0.902578</td>\n",
       "      <td>0.008765</td>\n",
       "    </tr>\n",
       "    <tr>\n",
       "      <th>1</th>\n",
       "      <td>-2.981371</td>\n",
       "      <td>0.054978</td>\n",
       "    </tr>\n",
       "    <tr>\n",
       "      <th>2</th>\n",
       "      <td>-1.368684</td>\n",
       "      <td>0.173273</td>\n",
       "    </tr>\n",
       "    <tr>\n",
       "      <th>3</th>\n",
       "      <td>-1.703697</td>\n",
       "      <td>0.328896</td>\n",
       "    </tr>\n",
       "    <tr>\n",
       "      <th>4</th>\n",
       "      <td>3.602040</td>\n",
       "      <td>1.073680</td>\n",
       "    </tr>\n",
       "    <tr>\n",
       "      <th>...</th>\n",
       "      <td>...</td>\n",
       "      <td>...</td>\n",
       "    </tr>\n",
       "    <tr>\n",
       "      <th>99994</th>\n",
       "      <td>-2.230306</td>\n",
       "      <td>-1.940724</td>\n",
       "    </tr>\n",
       "    <tr>\n",
       "      <th>99995</th>\n",
       "      <td>-1.063393</td>\n",
       "      <td>-1.221326</td>\n",
       "    </tr>\n",
       "    <tr>\n",
       "      <th>99996</th>\n",
       "      <td>1.557219</td>\n",
       "      <td>0.016833</td>\n",
       "    </tr>\n",
       "    <tr>\n",
       "      <th>99997</th>\n",
       "      <td>-0.799520</td>\n",
       "      <td>1.079741</td>\n",
       "    </tr>\n",
       "    <tr>\n",
       "      <th>99998</th>\n",
       "      <td>-0.956315</td>\n",
       "      <td>1.071510</td>\n",
       "    </tr>\n",
       "  </tbody>\n",
       "</table>\n",
       "<p>99999 rows × 2 columns</p>\n",
       "</div>"
      ],
      "text/plain": [
       "            PC1       PC2\n",
       "0     -0.902578  0.008765\n",
       "1     -2.981371  0.054978\n",
       "2     -1.368684  0.173273\n",
       "3     -1.703697  0.328896\n",
       "4      3.602040  1.073680\n",
       "...         ...       ...\n",
       "99994 -2.230306 -1.940724\n",
       "99995 -1.063393 -1.221326\n",
       "99996  1.557219  0.016833\n",
       "99997 -0.799520  1.079741\n",
       "99998 -0.956315  1.071510\n",
       "\n",
       "[99999 rows x 2 columns]"
      ]
     },
     "execution_count": 11,
     "metadata": {},
     "output_type": "execute_result"
    }
   ],
   "source": [
    "from sklearn.decomposition import PCA\n",
    "\n",
    "\n",
    "pca = PCA(n_components=2)\n",
    "pca.fit(df_x)\n",
    "transformed_scaled = pca.transform(df_x)\n",
    "\n",
    "\n",
    "transformed_pca = pd.DataFrame(transformed_scaled, columns=['PC1', 'PC2'])\n",
    "transformed_pca"
   ]
  },
  {
   "cell_type": "code",
   "execution_count": 12,
   "metadata": {},
   "outputs": [],
   "source": [
    "X_trainPCA, X_testPCA, y_trainPCA, y_testPCA = train_test_split(transformed_pca, df_y, test_size = 0.2, random_state = 0)"
   ]
  },
  {
   "cell_type": "code",
   "execution_count": 11,
   "metadata": {},
   "outputs": [
    {
     "data": {
      "text/plain": [
       "10382   -0.053771\n",
       "73171   -0.303468\n",
       "30938    0.130101\n",
       "99310    0.057507\n",
       "58959   -0.326227\n",
       "           ...   \n",
       "21243   -0.074075\n",
       "45891    0.322635\n",
       "42613    0.329447\n",
       "43567    0.299846\n",
       "68268   -0.191566\n",
       "Name: PC1, Length: 80000, dtype: float64"
      ]
     },
     "execution_count": 11,
     "metadata": {},
     "output_type": "execute_result"
    }
   ],
   "source": [
    "X_trainPCA.iloc[:,0]"
   ]
  },
  {
   "cell_type": "code",
   "execution_count": 13,
   "metadata": {},
   "outputs": [
    {
     "name": "stdout",
     "output_type": "stream",
     "text": [
      "Model accuracy score with rbf kernel, C=1000.0 and gamma=0.1 - OVR : 0.5980\n"
     ]
    }
   ],
   "source": [
    "svcPCA=SVC(kernel = \"rbf\", C=1000.0, gamma=0.1, decision_function_shape='ovr') \n",
    "\n",
    "\n",
    "# fit classifier to training set\n",
    "svcPCA.fit(X_trainPCA,y_trainPCA)\n",
    "\n",
    "\n",
    "# make predictions on test set\n",
    "y_pred_PCA=svcPCA.predict(X_testPCA)\n",
    "\n",
    "\n",
    "# compute and print accuracy score\n",
    "print('Model accuracy score with rbf kernel, C=1000.0 and gamma=0.1 - OVR : {0:0.4f}'. format(accuracy_score(y_testPCA, y_pred_PCA)))"
   ]
  },
  {
   "cell_type": "markdown",
   "metadata": {},
   "source": [
    "TSNE"
   ]
  },
  {
   "cell_type": "code",
   "execution_count": 8,
   "metadata": {},
   "outputs": [
    {
     "name": "stderr",
     "output_type": "stream",
     "text": [
      "/Users/achris/miniconda3/envs/snacs/lib/python3.10/site-packages/sklearn/manifold/_t_sne.py:800: FutureWarning: The default initialization in TSNE will change from 'random' to 'pca' in 1.2.\n",
      "  warnings.warn(\n",
      "/Users/achris/miniconda3/envs/snacs/lib/python3.10/site-packages/sklearn/manifold/_t_sne.py:810: FutureWarning: The default learning rate in TSNE will change from 200.0 to 'auto' in 1.2.\n",
      "  warnings.warn(\n",
      "/Users/achris/miniconda3/envs/snacs/lib/python3.10/site-packages/sklearn/preprocessing/_data.py:239: UserWarning: Numerical issues were encountered when centering the data and might not be solved. Dataset may contain too large values. You may need to prescale your features.\n",
      "  warnings.warn(\n",
      "/Users/achris/miniconda3/envs/snacs/lib/python3.10/site-packages/sklearn/preprocessing/_data.py:258: UserWarning: Numerical issues were encountered when scaling the data and might not be solved. The standard deviation of the data is probably very close to 0. \n",
      "  warnings.warn(\n"
     ]
    }
   ],
   "source": [
    "from sklearn.manifold import TSNE\n",
    "from sklearn import preprocessing\n",
    "\n",
    "tsne = TSNE(n_components=2, perplexity=50)\n",
    "transformed = tsne.fit_transform(df_x)\n",
    "\n",
    "transformed_TSNE = pd.DataFrame(transformed, columns=['TSNE1', 'TSNE2'])\n",
    "transformed_TSNE = preprocessing.scale(transformed_TSNE)"
   ]
  },
  {
   "cell_type": "code",
   "execution_count": 9,
   "metadata": {},
   "outputs": [],
   "source": [
    "X_trainTSNE, X_testTSNE, y_trainTSNE, y_testTSNE = train_test_split(transformed_TSNE, df_y, test_size = 0.2, random_state = 0)"
   ]
  },
  {
   "cell_type": "code",
   "execution_count": 10,
   "metadata": {},
   "outputs": [
    {
     "name": "stdout",
     "output_type": "stream",
     "text": [
      "Model accuracy score with rbf kernel, C=1000.0 and gamma=0.1 - OVR : 0.6993\n"
     ]
    }
   ],
   "source": [
    "svcTSNE=SVC(kernel = \"rbf\", C=1000.0, gamma=0.1, decision_function_shape='ovr') \n",
    "\n",
    "\n",
    "# fit classifier to training set\n",
    "svcTSNE.fit(X_trainTSNE,y_trainTSNE)\n",
    "\n",
    "\n",
    "# make predictions on test set\n",
    "y_pred_TSNE=svcTSNE.predict(X_testTSNE)\n",
    "\n",
    "\n",
    "# compute and print accuracy score\n",
    "print('Model accuracy score with rbf kernel, C=1000.0 and gamma=0.1 - OVR : {0:0.4f}'. format(accuracy_score(y_testTSNE, y_pred_TSNE)))"
   ]
  },
  {
   "cell_type": "markdown",
   "metadata": {},
   "source": [
    "UMAP"
   ]
  },
  {
   "cell_type": "code",
   "execution_count": 5,
   "metadata": {},
   "outputs": [
    {
     "name": "stderr",
     "output_type": "stream",
     "text": [
      "/Users/achris/miniconda3/envs/snacs/lib/python3.10/site-packages/tqdm/auto.py:22: TqdmWarning: IProgress not found. Please update jupyter and ipywidgets. See https://ipywidgets.readthedocs.io/en/stable/user_install.html\n",
      "  from .autonotebook import tqdm as notebook_tqdm\n",
      "/Users/achris/miniconda3/envs/snacs/lib/python3.10/site-packages/sklearn/preprocessing/_data.py:239: UserWarning: Numerical issues were encountered when centering the data and might not be solved. Dataset may contain too large values. You may need to prescale your features.\n",
      "  warnings.warn(\n",
      "/Users/achris/miniconda3/envs/snacs/lib/python3.10/site-packages/sklearn/preprocessing/_data.py:258: UserWarning: Numerical issues were encountered when scaling the data and might not be solved. The standard deviation of the data is probably very close to 0. \n",
      "  warnings.warn(\n"
     ]
    }
   ],
   "source": [
    "import umap\n",
    "\n",
    "umap = umap.UMAP(n_components=2)\n",
    "transformed = umap.fit_transform(df_x)\n",
    "\n",
    "\n",
    "transformed_UMAP = pd.DataFrame(transformed, columns=['UMAP1', 'UMAP2'])\n",
    "transformed_UMAP\n",
    "transformed_UMAP = preprocessing.scale(transformed_UMAP)"
   ]
  },
  {
   "cell_type": "code",
   "execution_count": 6,
   "metadata": {},
   "outputs": [],
   "source": [
    "X_trainUMAP, X_testUMAP, y_trainUMAP, y_testUMAP = train_test_split(transformed_UMAP, df_y, test_size = 0.2, random_state = 0)"
   ]
  },
  {
   "cell_type": "code",
   "execution_count": 7,
   "metadata": {},
   "outputs": [
    {
     "name": "stdout",
     "output_type": "stream",
     "text": [
      "Model accuracy score with rbf kernel, C=1000.0 and gamma=0.1 - OVR : 0.7255\n"
     ]
    }
   ],
   "source": [
    "svcUMAP=SVC(kernel = \"rbf\", C=1000.0, gamma=0.1, decision_function_shape='ovr') \n",
    "\n",
    "\n",
    "# fit classifier to training set\n",
    "svcUMAP.fit(X_trainUMAP,y_trainUMAP)\n",
    "\n",
    "\n",
    "# make predictions on test set\n",
    "y_pred_UMAP=svcUMAP.predict(X_testUMAP)\n",
    "\n",
    "\n",
    "# compute and print accuracy score\n",
    "print('Model accuracy score with rbf kernel, C=1000.0 and gamma=0.1 - OVR : {0:0.4f}'. format(accuracy_score(y_testUMAP, y_pred_UMAP)))"
   ]
  },
  {
   "cell_type": "code",
   "execution_count": 19,
   "metadata": {},
   "outputs": [],
   "source": [
    "import warnings\n",
    "from matplotlib.colors import ListedColormap\n",
    "\n",
    "def versiontuple(v):\n",
    "    return tuple(map(int, (v.split(\".\"))))\n",
    "\n",
    "def plot_decision_regions(X, y, classifier, test_idx=None, resolution=0.02):\n",
    "\n",
    "    # setup marker generator and color map\n",
    "    markers = ('s', 'x', 'o')\n",
    "    colors = ('red', 'blue', 'lightgreen')\n",
    "    cmap = ListedColormap(colors[:len(np.unique(y))])\n",
    "\n",
    "    # plot the decision surface\n",
    "    x1_min, x1_max = X[:, 0].min() - 1, X[:, 0].max() + 1\n",
    "    x2_min, x2_max = X[:, 1].min() - 1, X[:, 1].max() + 1\n",
    "    xx1, xx2 = np.meshgrid(np.arange(x1_min, x1_max, resolution),\n",
    "                           np.arange(x2_min, x2_max, resolution))\n",
    "    Z = classifier.predict(np.array([xx1.ravel(), xx2.ravel()]).T)\n",
    "    Z = Z.reshape(xx1.shape)\n",
    "    plt.contourf(xx1, xx2, Z, alpha=0.4, cmap=cmap)\n",
    "    plt.xlim(xx1.min(), xx1.max())\n",
    "    plt.ylim(xx2.min(), xx2.max())\n",
    "\n",
    "    for idx, cl in enumerate(np.unique(y)):\n",
    "        plt.scatter(x=X[y == cl, 0], y=X[y == cl, 1],\n",
    "                    alpha=0.8, c=cmap(idx),\n",
    "                    marker=markers[idx], label=cl)\n",
    "\n",
    "    # highlight test samples\n",
    "    if test_idx:\n",
    "        # plot all samples\n",
    "        if not versiontuple(np.__version__) >= versiontuple('1.9.0'):\n",
    "            X_test, y_test = X[list(test_idx), :], y[list(test_idx)]\n",
    "            warnings.warn('Please update to NumPy 1.9.0 or newer')\n",
    "        else:\n",
    "            X_test, y_test = X[test_idx, :], y[test_idx]\n",
    "\n",
    "        plt.scatter(X_test[:, 0],\n",
    "                    X_test[:, 1],\n",
    "                    c='',\n",
    "                    alpha=1.0,\n",
    "                    linewidths=1,\n",
    "                    marker='o',\n",
    "                    s=55, label='test set')"
   ]
  },
  {
   "cell_type": "code",
   "execution_count": 20,
   "metadata": {},
   "outputs": [
    {
     "name": "stderr",
     "output_type": "stream",
     "text": [
      "*c* argument looks like a single numeric RGB or RGBA sequence, which should be avoided as value-mapping will have precedence in case its length matches with *x* & *y*.  Please use the *color* keyword-argument or provide a 2D array with a single row if you intend to specify the same RGB or RGBA value for all points.\n",
      "*c* argument looks like a single numeric RGB or RGBA sequence, which should be avoided as value-mapping will have precedence in case its length matches with *x* & *y*.  Please use the *color* keyword-argument or provide a 2D array with a single row if you intend to specify the same RGB or RGBA value for all points.\n",
      "*c* argument looks like a single numeric RGB or RGBA sequence, which should be avoided as value-mapping will have precedence in case its length matches with *x* & *y*.  Please use the *color* keyword-argument or provide a 2D array with a single row if you intend to specify the same RGB or RGBA value for all points.\n"
     ]
    },
    {
     "data": {
      "image/png": "[encoded data removed]",
      "text/plain": [
       "<Figure size 640x480 with 1 Axes>"
      ]
     },
     "metadata": {},
     "output_type": "display_data"
    }
   ],
   "source": [
    "# Visualize the decision boundaries\n",
    "plot_decision_regions(transformed_UMAP, df_y, classifier=svcUMAP)\n",
    "plt.legend(loc='upper left')\n",
    "plt.tight_layout()\n",
    "plt.title('Decision Boundary - SVM (UMAP reduced data)')\n",
    "plt.show()"
   ]
  }
 ],
 "metadata": {
  "kernelspec": {
   "display_name": "Python 3.10.4 ('snacs')",
   "language": "python",
   "name": "python3"
  },
  "language_info": {
   "codemirror_mode": {
    "name": "ipython",
    "version": 3
   },
   "file_extension": ".py",
   "mimetype": "text/x-python",
   "name": "python",
   "nbconvert_exporter": "python",
   "pygments_lexer": "ipython3",
   "version": "3.10.4"
  },
  "orig_nbformat": 4,
  "vscode": {
   "interpreter": {
    "hash": "4f3b8f08283fd47419890b63bd6aba7d477bc1d1dd10a4488ca2943378e61658"
   }
  }
 },
 "nbformat": 4,
 "nbformat_minor": 2
}
